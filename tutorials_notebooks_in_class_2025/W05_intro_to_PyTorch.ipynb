{
  "cells": [
    {
      "cell_type": "markdown",
      "metadata": {
        "id": "view-in-github",
        "colab_type": "text"
      },
      "source": [
        "<a href=\"https://colab.research.google.com/github/Andrian0s/ML4NLP1-2025-Tutorial-Notebooks/blob/main/tutorials_notebooks_in_class_2025/W05_intro_to_PyTorch.ipynb\" target=\"_parent\"><img src=\"https://colab.research.google.com/assets/colab-badge.svg\" alt=\"Open In Colab\"/></a>"
      ]
    },
    {
      "cell_type": "markdown",
      "metadata": {
        "id": "5tj0U__hH95r"
      },
      "source": [
        "# A Quick PyTorch Introduction for ML4NLP1\n",
        "\n",
        "### Tutorial W5 (13.10.2024)\n",
        "\n",
        "- PyTorch: https://pytorch.org/\n",
        "- PyTorch tutorials: https://pytorch.org/tutorials/\n",
        "- PyTorch documentation: https://pytorch.org/docs/stable/index.html\n",
        "- PyTorch forums: https://discuss.pytorch.org/\n",
        "- A collection of pytorch example code snippets: https://pytorch.org/tutorials/beginner/pytorch_with_examples.html"
      ]
    },
    {
      "cell_type": "code",
      "execution_count": 2,
      "metadata": {
        "id": "ZcQdTHyHIG6W"
      },
      "outputs": [],
      "source": [
        "import numpy as np\n",
        "import torch"
      ]
    },
    {
      "cell_type": "markdown",
      "metadata": {
        "id": "btpW3rhnNFy3"
      },
      "source": [
        "## Basic Data Types\n",
        "\n",
        "Demonstrating different ways to create and interact with PyTorch tensors, the fundamental data structure in PyTorch"
      ]
    },
    {
      "cell_type": "code",
      "execution_count": 2,
      "metadata": {
        "colab": {
          "base_uri": "https://localhost:8080/"
        },
        "id": "bo_Y_Z3oODHo",
        "outputId": "6bc6b95a-a388-4a8a-eb42-0e883edbc76d"
      },
      "outputs": [
        {
          "output_type": "stream",
          "name": "stdout",
          "text": [
            "torch.int64\n",
            "torch.float32\n"
          ]
        }
      ],
      "source": [
        "t = torch.tensor([1, 2, 3])\n",
        "print(t.dtype)\n",
        "t = torch.tensor([1.0, 2.0, 3.0])\n",
        "print(t.dtype)"
      ]
    },
    {
      "cell_type": "code",
      "execution_count": 3,
      "metadata": {
        "colab": {
          "base_uri": "https://localhost:8080/"
        },
        "id": "F9QKGtSROaqC",
        "outputId": "19ab04f0-b641-4e78-958b-209e72349750"
      },
      "outputs": [
        {
          "output_type": "stream",
          "name": "stdout",
          "text": [
            "torch.int64\n",
            "torch.float64\n"
          ]
        }
      ],
      "source": [
        "t = torch.tensor([1, 2, 3], dtype=torch.long)\n",
        "print(t.dtype)\n",
        "t = torch.tensor([1, 2, 3], dtype=torch.float64)\n",
        "print(t.dtype)"
      ]
    },
    {
      "cell_type": "code",
      "execution_count": 4,
      "metadata": {
        "colab": {
          "base_uri": "https://localhost:8080/"
        },
        "id": "k_1LlTWtOoIE",
        "outputId": "0a2906e5-9b1c-48c3-c3f1-7c293ae43430"
      },
      "outputs": [
        {
          "output_type": "stream",
          "name": "stdout",
          "text": [
            "torch.int64\n",
            "torch.float32\n"
          ]
        }
      ],
      "source": [
        "t = torch.LongTensor([1, 2, 3])\n",
        "print(t.dtype)\n",
        "t = torch.FloatTensor([1, 2, 3])\n",
        "print(t.dtype)"
      ]
    },
    {
      "cell_type": "code",
      "execution_count": 6,
      "metadata": {
        "colab": {
          "base_uri": "https://localhost:8080/"
        },
        "id": "T6aGgINxOwCh",
        "outputId": "8af3a580-5476-44f9-827f-45b9e055d677"
      },
      "outputs": [
        {
          "output_type": "stream",
          "name": "stdout",
          "text": [
            "[1 2 3] <class 'numpy.ndarray'>\n",
            "tensor([1, 2, 3]) <class 'torch.Tensor'>\n",
            "[1 2 3] <class 'numpy.ndarray'>\n"
          ]
        }
      ],
      "source": [
        "a = np.array([1, 2, 3])\n",
        "t = torch.from_numpy(a)\n",
        "b = t.numpy()\n",
        "print(a, type(a))\n",
        "print(t, type(t))\n",
        "print(b, type(b))"
      ]
    },
    {
      "cell_type": "markdown",
      "metadata": {
        "id": "YbZ0hS3XP1JN"
      },
      "source": [
        "For a list of PyTorch tensor types, go to: https://pytorch.org/docs/stable/tensors.html\n",
        "\n",
        "##Tensors have a shape\n",
        "\n",
        "Tensor shapes describe the dimensions and structure of the data in the tensor. Understanding and working with tensor shapes is crucial for data manipulation and neural network operations."
      ]
    },
    {
      "cell_type": "code",
      "execution_count": 7,
      "metadata": {
        "colab": {
          "base_uri": "https://localhost:8080/"
        },
        "id": "1_RsOtWxP719",
        "outputId": "66d9a727-3b12-4ef7-aa55-78d58af4809f"
      },
      "outputs": [
        {
          "output_type": "stream",
          "name": "stdout",
          "text": [
            "torch.Size([1])\n",
            "torch.Size([3])\n",
            "torch.Size([3, 2])\n"
          ]
        }
      ],
      "source": [
        "s = torch.FloatTensor([0.5])\n",
        "t = torch.FloatTensor([1, 3.2, 19])\n",
        "u = torch.FloatTensor([[0.2, 2], [0.3, 3], [0.4, 4]])\n",
        "print(s.shape)\n",
        "print(t.shape)\n",
        "print(u.shape)"
      ]
    },
    {
      "cell_type": "markdown",
      "metadata": {
        "id": "JJYrWTdqR2dn"
      },
      "source": [
        "Alternatively you may sometimes see `tensor.size()`:"
      ]
    },
    {
      "cell_type": "code",
      "execution_count": 8,
      "metadata": {
        "colab": {
          "base_uri": "https://localhost:8080/"
        },
        "id": "LmOwaocKRi1L",
        "outputId": "819c606b-7366-4cb6-dff0-31c872ea697d"
      },
      "outputs": [
        {
          "output_type": "stream",
          "name": "stdout",
          "text": [
            "torch.Size([1])\n",
            "torch.Size([3])\n",
            "torch.Size([3, 2])\n"
          ]
        }
      ],
      "source": [
        "print(s.size())\n",
        "print(t.size())\n",
        "print(u.size())"
      ]
    },
    {
      "cell_type": "markdown",
      "metadata": {
        "id": "E7YPxG0fSJ3F"
      },
      "source": [
        "You can change the shape of a tensor using  [`tensor.view()`](https://pytorch.org/docs/stable/tensor_view.html):"
      ]
    },
    {
      "cell_type": "code",
      "source": [
        "u"
      ],
      "metadata": {
        "colab": {
          "base_uri": "https://localhost:8080/"
        },
        "id": "iVZPk9j2lHBZ",
        "outputId": "c46caccd-cbee-4899-c781-b79fddecf168"
      },
      "execution_count": 9,
      "outputs": [
        {
          "output_type": "execute_result",
          "data": {
            "text/plain": [
              "tensor([[0.2000, 2.0000],\n",
              "        [0.3000, 3.0000],\n",
              "        [0.4000, 4.0000]])"
            ]
          },
          "metadata": {},
          "execution_count": 9
        }
      ]
    },
    {
      "cell_type": "code",
      "source": [
        "u.shape"
      ],
      "metadata": {
        "colab": {
          "base_uri": "https://localhost:8080/"
        },
        "id": "Pf7dfvrklZYD",
        "outputId": "8b17ea0c-2551-40cf-9687-042e828e32fd"
      },
      "execution_count": 10,
      "outputs": [
        {
          "output_type": "execute_result",
          "data": {
            "text/plain": [
              "torch.Size([3, 2])"
            ]
          },
          "metadata": {},
          "execution_count": 10
        }
      ]
    },
    {
      "cell_type": "code",
      "execution_count": 11,
      "metadata": {
        "colab": {
          "base_uri": "https://localhost:8080/"
        },
        "id": "5EvYIDivR-Z4",
        "outputId": "d640da13-c7fa-4639-b8d0-aa83b33d3dad"
      },
      "outputs": [
        {
          "output_type": "execute_result",
          "data": {
            "text/plain": [
              "tensor([[0.2000, 2.0000, 0.3000],\n",
              "        [3.0000, 0.4000, 4.0000]])"
            ]
          },
          "metadata": {},
          "execution_count": 11
        }
      ],
      "source": [
        "u.view(2, 3)"
      ]
    },
    {
      "cell_type": "code",
      "execution_count": 12,
      "metadata": {
        "colab": {
          "base_uri": "https://localhost:8080/"
        },
        "id": "lYWyAdjhSes7",
        "outputId": "ae7653dd-e46a-4043-dfd6-fed8d98d8f85"
      },
      "outputs": [
        {
          "output_type": "execute_result",
          "data": {
            "text/plain": [
              "tensor([[0.2000, 2.0000, 0.3000, 3.0000, 0.4000, 4.0000]])"
            ]
          },
          "metadata": {},
          "execution_count": 12
        }
      ],
      "source": [
        "u.view(1, 6)"
      ]
    },
    {
      "cell_type": "code",
      "execution_count": 13,
      "metadata": {
        "colab": {
          "base_uri": "https://localhost:8080/"
        },
        "id": "50TS5Kgrnd-j",
        "outputId": "d356b758-66fd-48f2-b675-01e3532a7036"
      },
      "outputs": [
        {
          "output_type": "execute_result",
          "data": {
            "text/plain": [
              "tensor([[0.2000, 2.0000, 0.3000],\n",
              "        [3.0000, 0.4000, 4.0000]])"
            ]
          },
          "metadata": {},
          "execution_count": 13
        }
      ],
      "source": [
        "# Automatically detect 2nd dimension given the first dimension is 2\n",
        "u.view(2, -1)"
      ]
    },
    {
      "cell_type": "code",
      "execution_count": 14,
      "metadata": {
        "colab": {
          "base_uri": "https://localhost:8080/"
        },
        "id": "bbMwbWuEnuhu",
        "outputId": "1ef741b4-6cfc-4541-8ff9-5710fa24ce06"
      },
      "outputs": [
        {
          "output_type": "execute_result",
          "data": {
            "text/plain": [
              "tensor([[0.2000, 2.0000],\n",
              "        [0.3000, 3.0000],\n",
              "        [0.4000, 4.0000]])"
            ]
          },
          "metadata": {},
          "execution_count": 14
        }
      ],
      "source": [
        "# Automatically detect first dimension given the second dimension is 2\n",
        "u.view(-1, 2)"
      ]
    },
    {
      "cell_type": "markdown",
      "metadata": {
        "id": "2DlQsysyr2Gs"
      },
      "source": [
        "More infos on `view()`: https://pytorch.org/docs/stable/tensor_view.html"
      ]
    },
    {
      "cell_type": "markdown",
      "metadata": {
        "id": "tF_G1siPoYxF"
      },
      "source": [
        "## Flatten and Squeeze\n",
        "Demonstrating various operations that can be performed on tensors, like mathematical operations, reshaping, squeezing, and unsqueezing. These are essential for data manipulation and preparing data for processing by a neural network."
      ]
    },
    {
      "cell_type": "code",
      "execution_count": 15,
      "metadata": {
        "colab": {
          "base_uri": "https://localhost:8080/"
        },
        "id": "cZZOkJ4vn7xD",
        "outputId": "3a766cbb-de35-4dfb-e7f4-54670930ab2b"
      },
      "outputs": [
        {
          "output_type": "execute_result",
          "data": {
            "text/plain": [
              "tensor([0.2000, 2.0000, 0.3000, 3.0000, 0.4000, 4.0000])"
            ]
          },
          "metadata": {},
          "execution_count": 15
        }
      ],
      "source": [
        "u.flatten()  # same as u.view(1, -1)"
      ]
    },
    {
      "cell_type": "code",
      "execution_count": 16,
      "metadata": {
        "colab": {
          "base_uri": "https://localhost:8080/"
        },
        "id": "hLGSZtYloKvJ",
        "outputId": "ffacb9d1-d220-4f47-d013-a426e4bee5d4"
      },
      "outputs": [
        {
          "output_type": "stream",
          "name": "stdout",
          "text": [
            "torch.Size([1, 2])\n",
            "torch.Size([1, 1, 2])\n"
          ]
        }
      ],
      "source": [
        "a = torch.FloatTensor([[0.35, 16.1]]) # 2 brackets\n",
        "b = torch.FloatTensor([[[1.3, 2.9]]]) # 3 brackets\n",
        "print(a.shape)\n",
        "print(b.shape)"
      ]
    },
    {
      "cell_type": "code",
      "execution_count": 17,
      "metadata": {
        "colab": {
          "base_uri": "https://localhost:8080/"
        },
        "id": "pa1NGbRqotRa",
        "outputId": "fa12bc14-7eac-4037-82ab-7a736f7d4fb5"
      },
      "outputs": [
        {
          "output_type": "stream",
          "name": "stdout",
          "text": [
            "tensor([ 0.3500, 16.1000]) torch.Size([2])\n",
            "tensor([1.3000, 2.9000]) torch.Size([2])\n"
          ]
        }
      ],
      "source": [
        "# The u.squeeze() operation in PyTorch removes any dimensions of size 1 from the tensor's shape.\n",
        "# This is often used to \"squeeze\" out unnecessary or redundant dimensions that don't carry useful information\n",
        "c = a.squeeze()\n",
        "d = b.squeeze()\n",
        "print(c, c.shape)\n",
        "print(d, d.shape)"
      ]
    },
    {
      "cell_type": "code",
      "execution_count": 18,
      "metadata": {
        "colab": {
          "base_uri": "https://localhost:8080/"
        },
        "id": "GMJFkq8HpNdS",
        "outputId": "c71bb9ca-c43a-4bc9-8a18-4b99ccff4539"
      },
      "outputs": [
        {
          "output_type": "stream",
          "name": "stdout",
          "text": [
            "tensor([[ 0.3500, 16.1000]]) torch.Size([1, 2])\n",
            "tensor([[ 0.3500],\n",
            "        [16.1000]]) torch.Size([2, 1])\n",
            "tensor([[ 0.3500],\n",
            "        [16.1000]]) torch.Size([2, 1])\n"
          ]
        }
      ],
      "source": [
        "e = c.unsqueeze(dim=0)\n",
        "f = c.unsqueeze(dim=1)\n",
        "g = c.unsqueeze(dim=-1)\n",
        "print(e, e.shape)\n",
        "print(f, f.shape)\n",
        "print(g, g.shape)"
      ]
    },
    {
      "cell_type": "markdown",
      "metadata": {
        "id": "xaq3EAmtrfQ0"
      },
      "source": [
        "## Automatically Fill Tensors with Values\n",
        "\n",
        "Methods of automatically initialising tensors"
      ]
    },
    {
      "cell_type": "code",
      "execution_count": 19,
      "metadata": {
        "colab": {
          "base_uri": "https://localhost:8080/"
        },
        "id": "K64C_x-IpzcD",
        "outputId": "0aad28d3-a8a0-4447-85d2-b9f05b6bd8ee"
      },
      "outputs": [
        {
          "output_type": "stream",
          "name": "stdout",
          "text": [
            "tensor([[0., 0., 0.],\n",
            "        [0., 0., 0.]])\n"
          ]
        }
      ],
      "source": [
        "print(torch.zeros(2, 3))"
      ]
    },
    {
      "cell_type": "code",
      "execution_count": 20,
      "metadata": {
        "colab": {
          "base_uri": "https://localhost:8080/"
        },
        "id": "cpMX98fxrsVv",
        "outputId": "7655279d-535e-4dea-aadd-3d6448b68626"
      },
      "outputs": [
        {
          "output_type": "stream",
          "name": "stdout",
          "text": [
            "tensor([[1., 1., 1.],\n",
            "        [1., 1., 1.]])\n"
          ]
        }
      ],
      "source": [
        "print(torch.ones(2, 3))"
      ]
    },
    {
      "cell_type": "code",
      "execution_count": 21,
      "metadata": {
        "colab": {
          "base_uri": "https://localhost:8080/"
        },
        "id": "VZG4ZLYmrt_K",
        "outputId": "fef2405b-d0e6-45ba-f604-757c4a690808"
      },
      "outputs": [
        {
          "output_type": "stream",
          "name": "stdout",
          "text": [
            "tensor([[0.3743, 0.7597, 0.0973],\n",
            "        [0.6793, 0.5499, 0.1602]])\n"
          ]
        }
      ],
      "source": [
        "print(torch.rand(2, 3))  # numbers taken from uniform distribution on interval [0,1)"
      ]
    },
    {
      "cell_type": "code",
      "execution_count": 22,
      "metadata": {
        "colab": {
          "base_uri": "https://localhost:8080/"
        },
        "id": "Cke6ByGTrwFm",
        "outputId": "629f8f45-f21a-4f19-8837-159a9ce68a61"
      },
      "outputs": [
        {
          "output_type": "stream",
          "name": "stdout",
          "text": [
            "tensor([[0, 3, 0],\n",
            "        [4, 5, 5]])\n"
          ]
        }
      ],
      "source": [
        "print(torch.randint(low=0, high=6, size=(2, 3)))  # \"generated uniformly between low (inclusive) and high (exclusive)\"\""
      ]
    },
    {
      "cell_type": "markdown",
      "metadata": {
        "id": "I6l07NZk3DqC"
      },
      "source": [
        "## Tensor Slicing"
      ]
    },
    {
      "cell_type": "code",
      "execution_count": 23,
      "metadata": {
        "colab": {
          "base_uri": "https://localhost:8080/"
        },
        "id": "nad4l-Pq3GaT",
        "outputId": "a78e24a6-358a-48cf-df63-9a1d5d458c7b"
      },
      "outputs": [
        {
          "output_type": "stream",
          "name": "stdout",
          "text": [
            "tensor(1.)\n",
            "tensor([ 3.2000, 19.0000])\n",
            "tensor(19.)\n"
          ]
        }
      ],
      "source": [
        "t = torch.FloatTensor([1, 3.2, 19])\n",
        "print(t[0])\n",
        "print(t[1:])\n",
        "print(t[-1])"
      ]
    },
    {
      "cell_type": "code",
      "execution_count": 24,
      "metadata": {
        "colab": {
          "base_uri": "https://localhost:8080/"
        },
        "id": "O0VlgtEA3GXf",
        "outputId": "7614d579-a8e4-43b6-b9e8-ea6bcc047458"
      },
      "outputs": [
        {
          "output_type": "stream",
          "name": "stdout",
          "text": [
            "tensor([[0.2000, 2.0000],\n",
            "        [0.3000, 3.0000],\n",
            "        [0.4000, 4.0000]]) torch.Size([3, 2])\n",
            "tensor(3.)\n",
            "tensor([0.3000, 3.0000])\n",
            "tensor([2., 3., 4.])\n",
            "tensor([2., 3.])\n"
          ]
        }
      ],
      "source": [
        "u = torch.FloatTensor([[0.2, 2],\n",
        "                       [0.3, 3],\n",
        "                       [0.4, 4]])\n",
        "print(u, u.shape)\n",
        "print(u[1, 1]) # second element of second row\n",
        "print(u[1])  # second row\n",
        "print(u[:, 1])  # second column\n",
        "print(u[:-1, 1])  # second column without last element"
      ]
    },
    {
      "cell_type": "markdown",
      "metadata": {
        "id": "3qPmSzkJ2SEl"
      },
      "source": [
        "## Mathematical Operations"
      ]
    },
    {
      "cell_type": "code",
      "execution_count": 25,
      "metadata": {
        "id": "XKu1BcMq2R2i"
      },
      "outputs": [],
      "source": [
        "t = torch.FloatTensor([1, 3.2, 19])"
      ]
    },
    {
      "cell_type": "code",
      "execution_count": 26,
      "metadata": {
        "colab": {
          "base_uri": "https://localhost:8080/"
        },
        "id": "vQ-_PKIG2R0G",
        "outputId": "d697dd07-8e82-4aeb-fc37-067adbd92bef"
      },
      "outputs": [
        {
          "output_type": "execute_result",
          "data": {
            "text/plain": [
              "tensor([ 2.0000,  4.2000, 20.0000])"
            ]
          },
          "metadata": {},
          "execution_count": 26
        }
      ],
      "source": [
        "t + 1"
      ]
    },
    {
      "cell_type": "code",
      "execution_count": 27,
      "metadata": {
        "colab": {
          "base_uri": "https://localhost:8080/"
        },
        "id": "alOnJ9dE2Rxo",
        "outputId": "d453d97b-7a6a-4e73-ffb6-b4da92ba1e64"
      },
      "outputs": [
        {
          "output_type": "execute_result",
          "data": {
            "text/plain": [
              "tensor([0.3333, 1.0667, 6.3333])"
            ]
          },
          "metadata": {},
          "execution_count": 27
        }
      ],
      "source": [
        "t / 3"
      ]
    },
    {
      "cell_type": "code",
      "execution_count": 28,
      "metadata": {
        "colab": {
          "base_uri": "https://localhost:8080/"
        },
        "id": "LpA7Hmzx2RmI",
        "outputId": "fdf3ca41-5891-42a3-9888-55df4a365d07"
      },
      "outputs": [
        {
          "output_type": "execute_result",
          "data": {
            "text/plain": [
              "tensor([  1.0000,  10.2400, 361.0000])"
            ]
          },
          "metadata": {},
          "execution_count": 28
        }
      ],
      "source": [
        "t ** 2"
      ]
    },
    {
      "cell_type": "code",
      "execution_count": 29,
      "metadata": {
        "colab": {
          "base_uri": "https://localhost:8080/"
        },
        "id": "B3W2bA5p5Q6p",
        "outputId": "f69b5199-2007-46ff-9adb-5c8975e53682"
      },
      "outputs": [
        {
          "output_type": "execute_result",
          "data": {
            "text/plain": [
              "tensor(19.)"
            ]
          },
          "metadata": {},
          "execution_count": 29
        }
      ],
      "source": [
        "torch.max(t)"
      ]
    },
    {
      "cell_type": "code",
      "execution_count": 30,
      "metadata": {
        "colab": {
          "base_uri": "https://localhost:8080/"
        },
        "id": "qJYnIviy5etq",
        "outputId": "cb67fddc-54c4-4a50-a16c-5ca50759fa30"
      },
      "outputs": [
        {
          "output_type": "stream",
          "name": "stdout",
          "text": [
            "tensor(2)\n",
            "tensor(0)\n"
          ]
        }
      ],
      "source": [
        "print(torch.argmax(t))\n",
        "print(torch.argmin(t))"
      ]
    },
    {
      "cell_type": "code",
      "execution_count": 31,
      "metadata": {
        "colab": {
          "base_uri": "https://localhost:8080/"
        },
        "id": "WdfpTSkg5l4H",
        "outputId": "a2bfd74b-be8b-4391-86ec-492ad504bfd1"
      },
      "outputs": [
        {
          "output_type": "stream",
          "name": "stdout",
          "text": [
            "torch.Size([2, 3])\n",
            "tensor(2)\n",
            "tensor([0, 1, 0])\n",
            "tensor([2, 1])\n",
            "tensor([2, 1])\n"
          ]
        }
      ],
      "source": [
        "x = torch.FloatTensor([[.2, -0.3, 1.3],\n",
        "                       [0.1, 0.5, 0.01]])\n",
        "print(x.shape)\n",
        "print(torch.argmax(x))  # Returns the index of the largest element in the flattened version of the tensor\n",
        "print(torch.argmax(x, dim=0)) # Returns the row index of the largest element in each column\n",
        "print(torch.argmax(x, dim=1)) # Returns the column index of the largest element in each row\n",
        "print(torch.argmax(x, dim=-1)) # dim=-1 corresponds to the last dimension of the tensor. Equivalent to torch.argmax(x, dim=1)"
      ]
    },
    {
      "cell_type": "markdown",
      "metadata": {
        "id": "QXsX_yO-Lz94"
      },
      "source": [
        "If the dim argument is confusing, go to: https://stackoverflow.com/questions/55691819/why-does-dim-1-return-row-indices-in-torch-argmax"
      ]
    },
    {
      "cell_type": "markdown",
      "metadata": {
        "id": "weJDD3gyte0C"
      },
      "source": [
        "## [More attributes](https://pytorch.org/tutorials/beginner/basics/tensorqs_tutorial.html#attributes-of-a-tensor)\n",
        "\n",
        "Exploring tensor attributes and understanding how to interact with the device (CPU/GPU) for computations. This is critical for utilizing hardware accelerators for faster computation."
      ]
    },
    {
      "cell_type": "code",
      "execution_count": 3,
      "metadata": {
        "colab": {
          "base_uri": "https://localhost:8080/"
        },
        "id": "D2RxEfzKs4Vt",
        "outputId": "c391f9b8-3b20-4a53-af18-81044cd679ea"
      },
      "outputs": [
        {
          "output_type": "stream",
          "name": "stdout",
          "text": [
            "torch.Size([3])\n",
            "torch.float32\n",
            "cpu\n"
          ]
        }
      ],
      "source": [
        "a = torch.FloatTensor([0.4, 0.5, 1.3])\n",
        "print(a.shape)\n",
        "print(a.dtype)\n",
        "print(a.device)"
      ]
    },
    {
      "cell_type": "markdown",
      "metadata": {
        "id": "WM1PlcBEt-T8"
      },
      "source": [
        "Moving a Tensor to a Device"
      ]
    },
    {
      "cell_type": "code",
      "execution_count": 4,
      "metadata": {
        "colab": {
          "base_uri": "https://localhost:8080/"
        },
        "id": "MQvW39iZtzWF",
        "outputId": "9e199e1b-253c-41ee-fb88-9a0aeabdbcb7"
      },
      "outputs": [
        {
          "output_type": "stream",
          "name": "stdout",
          "text": [
            "True\n",
            "1\n"
          ]
        }
      ],
      "source": [
        "print(torch.cuda.is_available())\n",
        "print(torch.cuda.device_count())"
      ]
    },
    {
      "cell_type": "code",
      "execution_count": 5,
      "metadata": {
        "colab": {
          "base_uri": "https://localhost:8080/"
        },
        "id": "Un0wbzPzuIXX",
        "outputId": "eea26146-e9c5-448a-fa56-09153386e6aa"
      },
      "outputs": [
        {
          "output_type": "stream",
          "name": "stdout",
          "text": [
            "[<torch.cuda.device object at 0x7bfae481c7d0>]\n"
          ]
        }
      ],
      "source": [
        "gpus = [torch.cuda.device(i) for i in range(torch.cuda.device_count())]\n",
        "print(gpus)"
      ]
    },
    {
      "cell_type": "code",
      "execution_count": 6,
      "metadata": {
        "colab": {
          "base_uri": "https://localhost:8080/"
        },
        "id": "q2duXxOru5GY",
        "outputId": "425fbf0a-0218-4b6e-ec2c-eacdf2da58e7"
      },
      "outputs": [
        {
          "output_type": "execute_result",
          "data": {
            "text/plain": [
              "tensor([0.4000, 0.5000, 1.3000], device='cuda:0')"
            ]
          },
          "metadata": {},
          "execution_count": 6
        }
      ],
      "source": [
        "device = 'cuda:0'\n",
        "b = a.to(device)\n",
        "b"
      ]
    },
    {
      "cell_type": "markdown",
      "metadata": {
        "id": "9-rWg-4wvfHN"
      },
      "source": [
        "The typical line you see in most pytorch scripts for NN training:"
      ]
    },
    {
      "cell_type": "code",
      "execution_count": 7,
      "metadata": {
        "id": "l2D_pU0svDz4"
      },
      "outputs": [],
      "source": [
        "device = 'cuda:0' if torch.cuda.is_available() else 'cpu'\n",
        "# then move to device"
      ]
    },
    {
      "cell_type": "markdown",
      "metadata": {
        "id": "jEE7tZ8y1oQP"
      },
      "source": [
        "## PyTorch Datasets and Dataloaders\n",
        "\n",
        "For more information, go to: https://pytorch.org/docs/stable/data.html\n",
        "\n",
        "Best practices sheet:\n",
        "\n",
        "Here, we're creating custom dataset classes, which is a common practice when dealing with unique data that can't be directly used with pre-existing dataset classes provided by PyTorch."
      ]
    },
    {
      "cell_type": "code",
      "execution_count": 8,
      "metadata": {
        "id": "V1d-1bctvVvn"
      },
      "outputs": [],
      "source": [
        "from torch.utils.data import IterableDataset, DataLoader"
      ]
    },
    {
      "cell_type": "code",
      "execution_count": 9,
      "metadata": {
        "id": "2Ir61Yps9eZR"
      },
      "outputs": [],
      "source": [
        "num_features = 10\n",
        "num_train_examples = 100\n",
        "num_test_examples = 50\n",
        "num_classes = 4\n",
        "\n",
        "train_X = torch.rand(num_train_examples, num_features)\n",
        "train_y = torch.randint(low=0, high=num_classes, size=(num_train_examples, 1))\n",
        "test_X = torch.rand(num_test_examples, num_features)\n",
        "test_y = torch.randint(low=0, high=num_classes, size=(num_test_examples, 1))"
      ]
    },
    {
      "cell_type": "code",
      "source": [
        "print(train_X.shape)\n",
        "print(test_X.shape)\n",
        "print(train_y.shape)\n",
        "print(test_y.shape)"
      ],
      "metadata": {
        "colab": {
          "base_uri": "https://localhost:8080/"
        },
        "id": "svffdT_rtbyA",
        "outputId": "06442bdf-d724-4a65-b7c7-a17c903f7eec"
      },
      "execution_count": 10,
      "outputs": [
        {
          "output_type": "stream",
          "name": "stdout",
          "text": [
            "torch.Size([100, 10])\n",
            "torch.Size([50, 10])\n",
            "torch.Size([100, 1])\n",
            "torch.Size([50, 1])\n"
          ]
        }
      ]
    },
    {
      "cell_type": "code",
      "execution_count": 11,
      "metadata": {
        "id": "TKiVXHaf--Ml"
      },
      "outputs": [],
      "source": [
        "# Create a custom class MyDataset which is iterable (inheriting from IterableDataset)\n",
        "# It generates elements of data_X and data_y iteratively (one-by-one)\n",
        "\n",
        "class MyDataset(IterableDataset):\n",
        "    def __init__(self, data_X, data_y):\n",
        "        assert len(data_X) == len(data_y)\n",
        "        self.data_X = data_X.to(device)\n",
        "        self.data_y = data_y.to(device)\n",
        "\n",
        "    def __len__(self):\n",
        "        return len(self.data_X)\n",
        "\n",
        "    def __iter__(self):\n",
        "        for i in range(len(self.data_X)):\n",
        "            yield (self.data_X[i], self.data_y[i])"
      ]
    },
    {
      "cell_type": "code",
      "source": [
        "# Example data\n",
        "sample_X = torch.tensor([[1.0], [2.0], [3.0]])\n",
        "sample_y = torch.tensor([0, 1, 0])\n",
        "\n",
        "# Create the dataset\n",
        "dataset = MyDataset(sample_X, sample_y)\n",
        "\n",
        "# Initialize a counter variable\n",
        "counter = 0\n",
        "\n",
        "# Iterate over the dataset\n",
        "for x, y in dataset:\n",
        "    print(\"Counter: \", counter)\n",
        "    print(f'Input: {x}, Target: {y}')\n",
        "    counter += 1"
      ],
      "metadata": {
        "colab": {
          "base_uri": "https://localhost:8080/"
        },
        "id": "LV9sQg2JvHn_",
        "outputId": "270d0d59-5bd0-4f18-edb7-cc24e5c3f515"
      },
      "execution_count": 12,
      "outputs": [
        {
          "output_type": "stream",
          "name": "stdout",
          "text": [
            "Counter:  0\n",
            "Input: tensor([1.], device='cuda:0'), Target: 0\n",
            "Counter:  1\n",
            "Input: tensor([2.], device='cuda:0'), Target: 1\n",
            "Counter:  2\n",
            "Input: tensor([3.], device='cuda:0'), Target: 0\n"
          ]
        }
      ]
    },
    {
      "cell_type": "code",
      "execution_count": 13,
      "metadata": {
        "id": "mdgGd3qgJ2gf"
      },
      "outputs": [],
      "source": [
        "train_set = MyDataset(train_X, train_y)\n",
        "test_set = MyDataset(test_X, test_y)"
      ]
    },
    {
      "cell_type": "code",
      "execution_count": 14,
      "metadata": {
        "id": "PEWBMEnyK3Br"
      },
      "outputs": [],
      "source": [
        "# However, we need to batch our Training Dataset. Why do we need batching?\n",
        "\n",
        "# Without Batching: If you train your model on one sample at a time, the training can be very slow.\n",
        "#                   Each update will depend on the noise from individual samples, which may lead to unstable training.\n",
        "\n",
        "# With Batching: If you use a batch size of 8, for instance, the model processes 8 samples in parallel.\n",
        "#                It computes the average loss and gradients, and then updates the model weights.\n",
        "#                This leads to faster training times and more stable convergence.\n",
        "#                However, the larger the batch size the more memory you will need to train your model.\n",
        "\n",
        "train_loader = DataLoader(train_set, batch_size=8)\n",
        "test_loader = DataLoader(test_set, batch_size=8)"
      ]
    },
    {
      "cell_type": "markdown",
      "metadata": {
        "id": "vgse9J_sR1r4"
      },
      "source": [
        "Recommened DataLoader settings:"
      ]
    },
    {
      "cell_type": "code",
      "execution_count": 15,
      "metadata": {
        "colab": {
          "base_uri": "https://localhost:8080/"
        },
        "id": "txOQZNu5Lelr",
        "outputId": "e039e660-2a69-42a4-c1f4-6d38e47725d1"
      },
      "outputs": [
        {
          "output_type": "stream",
          "name": "stdout",
          "text": [
            "torch.Size([8, 10]) torch.Size([8, 1])\n",
            "torch.Size([8, 10]) torch.Size([8, 1])\n",
            "torch.Size([8, 10]) torch.Size([8, 1])\n",
            "torch.Size([8, 10]) torch.Size([8, 1])\n",
            "torch.Size([8, 10]) torch.Size([8, 1])\n",
            "torch.Size([8, 10]) torch.Size([8, 1])\n",
            "torch.Size([8, 10]) torch.Size([8, 1])\n",
            "torch.Size([8, 10]) torch.Size([8, 1])\n",
            "torch.Size([8, 10]) torch.Size([8, 1])\n",
            "torch.Size([8, 10]) torch.Size([8, 1])\n",
            "torch.Size([8, 10]) torch.Size([8, 1])\n",
            "torch.Size([8, 10]) torch.Size([8, 1])\n",
            "torch.Size([4, 10]) torch.Size([4, 1])\n"
          ]
        }
      ],
      "source": [
        "for batch in train_loader:\n",
        "    print(batch[0].shape, batch[1].shape)"
      ]
    },
    {
      "cell_type": "markdown",
      "metadata": {
        "id": "femOiRYKNjPy"
      },
      "source": [
        "## A Small Neural Net\n",
        "\n",
        "Defining the neural network model. In PyTorch, a model is usually defined as a class that inherits from torch.nn.Module. It includes layers as class attributes and defines the forward pass of the network."
      ]
    },
    {
      "cell_type": "code",
      "execution_count": 16,
      "metadata": {
        "id": "U0WiFewbMyN7"
      },
      "outputs": [],
      "source": [
        "class TinyNN(torch.nn.Module):\n",
        "\n",
        "    def __init__(self, num_features, num_classes):\n",
        "        super(TinyNN, self).__init__()\n",
        "        self.num_features = num_features\n",
        "        self.num_classes = num_classes\n",
        "        self.hidden_size = int(round(num_features / 2))\n",
        "        self.input_layer = torch.nn.Linear(num_features, self.hidden_size)\n",
        "        self.hidden_layer = torch.nn.Linear(self.hidden_size, self.hidden_size)\n",
        "        self.output_layer = torch.nn.Linear(self.hidden_size, num_classes)\n",
        "\n",
        "    def forward(self, inputs):\n",
        "        out1 = self.input_layer(inputs)\n",
        "        out2 = self.hidden_layer(out1)\n",
        "        out3 = self.output_layer(out2)\n",
        "        log_probs = torch.nn.functional.log_softmax(out3, dim=-1) # Compute log_softmax across last dimension.\n",
        "        return log_probs"
      ]
    },
    {
      "cell_type": "markdown",
      "metadata": {
        "id": "co7YlawW0cRj"
      },
      "source": [
        "## Let's Train it\n",
        "The training process involves several steps such as setting the model to training mode, looping over the data loader, computing the loss, performing backpropagation to calculate gradients, and updating the model parameters with an optimizer."
      ]
    },
    {
      "cell_type": "code",
      "execution_count": 17,
      "metadata": {
        "id": "BaaR2RlBPdZf",
        "colab": {
          "base_uri": "https://localhost:8080/"
        },
        "outputId": "e9440a4f-ab50-413b-ecd7-198b2414488d"
      },
      "outputs": [
        {
          "output_type": "stream",
          "name": "stdout",
          "text": [
            "Device: cuda:0\n"
          ]
        }
      ],
      "source": [
        "import torch.optim as optim\n",
        "\n",
        "model = TinyNN(num_features=num_features, num_classes=num_classes)\n",
        "device = 'cuda:0' if torch.cuda.is_available() else 'cpu'\n",
        "print(f\"Device: {device}\")\n",
        "model.to(device)\n",
        "\n",
        "loss_func = torch.nn.NLLLoss()  # for nllloss vs cat-cross-ent: https://discuss.pytorch.org/t/difference-between-cross-entropy-loss-or-log-likelihood-loss/38816/2\n",
        "lr = 0.001\n",
        "optimizer = optim.Adam(model.parameters(), lr=lr)\n",
        "\n",
        "num_epochs = 10"
      ]
    },
    {
      "cell_type": "code",
      "execution_count": 18,
      "metadata": {
        "colab": {
          "base_uri": "https://localhost:8080/"
        },
        "id": "v-T7LjmMQv06",
        "outputId": "8bd875b9-f354-437b-daf1-baf21b528c10"
      },
      "outputs": [
        {
          "output_type": "stream",
          "name": "stdout",
          "text": [
            "Epoch [1/10], batch: [1/13, loss: 1.3591]\n",
            "Epoch [1/10], batch: [2/13, loss: 1.2373]\n",
            "Epoch [1/10], batch: [3/13, loss: 1.3467]\n",
            "Epoch [1/10], batch: [4/13, loss: 1.4071]\n",
            "Epoch [1/10], batch: [5/13, loss: 1.5846]\n",
            "Epoch [1/10], batch: [6/13, loss: 1.4243]\n",
            "Epoch [1/10], batch: [7/13, loss: 1.2892]\n",
            "Epoch [1/10], batch: [8/13, loss: 1.2808]\n",
            "Epoch [1/10], batch: [9/13, loss: 1.2825]\n",
            "Epoch [1/10], batch: [10/13, loss: 1.3802]\n",
            "Epoch [1/10], batch: [11/13, loss: 1.3623]\n",
            "Epoch [1/10], batch: [12/13, loss: 1.3125]\n",
            "Epoch [1/10], batch: [13/13, loss: 1.3827]\n",
            "Epoch [2/10], batch: [1/13, loss: 1.3385]\n",
            "Epoch [2/10], batch: [2/13, loss: 1.2256]\n",
            "Epoch [2/10], batch: [3/13, loss: 1.3326]\n",
            "Epoch [2/10], batch: [4/13, loss: 1.3877]\n",
            "Epoch [2/10], batch: [5/13, loss: 1.5890]\n",
            "Epoch [2/10], batch: [6/13, loss: 1.4270]\n",
            "Epoch [2/10], batch: [7/13, loss: 1.2865]\n",
            "Epoch [2/10], batch: [8/13, loss: 1.2689]\n",
            "Epoch [2/10], batch: [9/13, loss: 1.2836]\n",
            "Epoch [2/10], batch: [10/13, loss: 1.3631]\n",
            "Epoch [2/10], batch: [11/13, loss: 1.3719]\n",
            "Epoch [2/10], batch: [12/13, loss: 1.2941]\n",
            "Epoch [2/10], batch: [13/13, loss: 1.3849]\n",
            "Epoch [3/10], batch: [1/13, loss: 1.3250]\n",
            "Epoch [3/10], batch: [2/13, loss: 1.2209]\n",
            "Epoch [3/10], batch: [3/13, loss: 1.3232]\n",
            "Epoch [3/10], batch: [4/13, loss: 1.3721]\n",
            "Epoch [3/10], batch: [5/13, loss: 1.5939]\n",
            "Epoch [3/10], batch: [6/13, loss: 1.4300]\n",
            "Epoch [3/10], batch: [7/13, loss: 1.2850]\n",
            "Epoch [3/10], batch: [8/13, loss: 1.2599]\n",
            "Epoch [3/10], batch: [9/13, loss: 1.2846]\n",
            "Epoch [3/10], batch: [10/13, loss: 1.3495]\n",
            "Epoch [3/10], batch: [11/13, loss: 1.3806]\n",
            "Epoch [3/10], batch: [12/13, loss: 1.2789]\n",
            "Epoch [3/10], batch: [13/13, loss: 1.3873]\n",
            "Epoch [4/10], batch: [1/13, loss: 1.3139]\n",
            "Epoch [4/10], batch: [2/13, loss: 1.2179]\n",
            "Epoch [4/10], batch: [3/13, loss: 1.3161]\n",
            "Epoch [4/10], batch: [4/13, loss: 1.3590]\n",
            "Epoch [4/10], batch: [5/13, loss: 1.5985]\n",
            "Epoch [4/10], batch: [6/13, loss: 1.4329]\n",
            "Epoch [4/10], batch: [7/13, loss: 1.2841]\n",
            "Epoch [4/10], batch: [8/13, loss: 1.2529]\n",
            "Epoch [4/10], batch: [9/13, loss: 1.2854]\n",
            "Epoch [4/10], batch: [10/13, loss: 1.3386]\n",
            "Epoch [4/10], batch: [11/13, loss: 1.3884]\n",
            "Epoch [4/10], batch: [12/13, loss: 1.2661]\n",
            "Epoch [4/10], batch: [13/13, loss: 1.3896]\n",
            "Epoch [5/10], batch: [1/13, loss: 1.3047]\n",
            "Epoch [5/10], batch: [2/13, loss: 1.2159]\n",
            "Epoch [5/10], batch: [3/13, loss: 1.3105]\n",
            "Epoch [5/10], batch: [4/13, loss: 1.3479]\n",
            "Epoch [5/10], batch: [5/13, loss: 1.6027]\n",
            "Epoch [5/10], batch: [6/13, loss: 1.4356]\n",
            "Epoch [5/10], batch: [7/13, loss: 1.2836]\n",
            "Epoch [5/10], batch: [8/13, loss: 1.2474]\n",
            "Epoch [5/10], batch: [9/13, loss: 1.2859]\n",
            "Epoch [5/10], batch: [10/13, loss: 1.3298]\n",
            "Epoch [5/10], batch: [11/13, loss: 1.3953]\n",
            "Epoch [5/10], batch: [12/13, loss: 1.2553]\n",
            "Epoch [5/10], batch: [13/13, loss: 1.3919]\n",
            "Epoch [6/10], batch: [1/13, loss: 1.2970]\n",
            "Epoch [6/10], batch: [2/13, loss: 1.2146]\n",
            "Epoch [6/10], batch: [3/13, loss: 1.3062]\n",
            "Epoch [6/10], batch: [4/13, loss: 1.3383]\n",
            "Epoch [6/10], batch: [5/13, loss: 1.6066]\n",
            "Epoch [6/10], batch: [6/13, loss: 1.4381]\n",
            "Epoch [6/10], batch: [7/13, loss: 1.2833]\n",
            "Epoch [6/10], batch: [8/13, loss: 1.2430]\n",
            "Epoch [6/10], batch: [9/13, loss: 1.2862]\n",
            "Epoch [6/10], batch: [10/13, loss: 1.3226]\n",
            "Epoch [6/10], batch: [11/13, loss: 1.4013]\n",
            "Epoch [6/10], batch: [12/13, loss: 1.2462]\n",
            "Epoch [6/10], batch: [13/13, loss: 1.3940]\n",
            "Epoch [7/10], batch: [1/13, loss: 1.2906]\n",
            "Epoch [7/10], batch: [2/13, loss: 1.2137]\n",
            "Epoch [7/10], batch: [3/13, loss: 1.3028]\n",
            "Epoch [7/10], batch: [4/13, loss: 1.3301]\n",
            "Epoch [7/10], batch: [5/13, loss: 1.6101]\n",
            "Epoch [7/10], batch: [6/13, loss: 1.4401]\n",
            "Epoch [7/10], batch: [7/13, loss: 1.2832]\n",
            "Epoch [7/10], batch: [8/13, loss: 1.2395]\n",
            "Epoch [7/10], batch: [9/13, loss: 1.2863]\n",
            "Epoch [7/10], batch: [10/13, loss: 1.3168]\n",
            "Epoch [7/10], batch: [11/13, loss: 1.4064]\n",
            "Epoch [7/10], batch: [12/13, loss: 1.2384]\n",
            "Epoch [7/10], batch: [13/13, loss: 1.3959]\n",
            "Epoch [8/10], batch: [1/13, loss: 1.2852]\n",
            "Epoch [8/10], batch: [2/13, loss: 1.2131]\n",
            "Epoch [8/10], batch: [3/13, loss: 1.3001]\n",
            "Epoch [8/10], batch: [4/13, loss: 1.3231]\n",
            "Epoch [8/10], batch: [5/13, loss: 1.6134]\n",
            "Epoch [8/10], batch: [6/13, loss: 1.4418]\n",
            "Epoch [8/10], batch: [7/13, loss: 1.2831]\n",
            "Epoch [8/10], batch: [8/13, loss: 1.2365]\n",
            "Epoch [8/10], batch: [9/13, loss: 1.2861]\n",
            "Epoch [8/10], batch: [10/13, loss: 1.3120]\n",
            "Epoch [8/10], batch: [11/13, loss: 1.4107]\n",
            "Epoch [8/10], batch: [12/13, loss: 1.2318]\n",
            "Epoch [8/10], batch: [13/13, loss: 1.3976]\n",
            "Epoch [9/10], batch: [1/13, loss: 1.2807]\n",
            "Epoch [9/10], batch: [2/13, loss: 1.2127]\n",
            "Epoch [9/10], batch: [3/13, loss: 1.2979]\n",
            "Epoch [9/10], batch: [4/13, loss: 1.3170]\n",
            "Epoch [9/10], batch: [5/13, loss: 1.6165]\n",
            "Epoch [9/10], batch: [6/13, loss: 1.4430]\n",
            "Epoch [9/10], batch: [7/13, loss: 1.2830]\n",
            "Epoch [9/10], batch: [8/13, loss: 1.2341]\n",
            "Epoch [9/10], batch: [9/13, loss: 1.2857]\n",
            "Epoch [9/10], batch: [10/13, loss: 1.3079]\n",
            "Epoch [9/10], batch: [11/13, loss: 1.4142]\n",
            "Epoch [9/10], batch: [12/13, loss: 1.2262]\n",
            "Epoch [9/10], batch: [13/13, loss: 1.3991]\n",
            "Epoch [10/10], batch: [1/13, loss: 1.2769]\n",
            "Epoch [10/10], batch: [2/13, loss: 1.2124]\n",
            "Epoch [10/10], batch: [3/13, loss: 1.2961]\n",
            "Epoch [10/10], batch: [4/13, loss: 1.3117]\n",
            "Epoch [10/10], batch: [5/13, loss: 1.6192]\n",
            "Epoch [10/10], batch: [6/13, loss: 1.4439]\n",
            "Epoch [10/10], batch: [7/13, loss: 1.2829]\n",
            "Epoch [10/10], batch: [8/13, loss: 1.2321]\n",
            "Epoch [10/10], batch: [9/13, loss: 1.2850]\n",
            "Epoch [10/10], batch: [10/13, loss: 1.3046]\n",
            "Epoch [10/10], batch: [11/13, loss: 1.4169]\n",
            "Epoch [10/10], batch: [12/13, loss: 1.2214]\n",
            "Epoch [10/10], batch: [13/13, loss: 1.4003]\n"
          ]
        }
      ],
      "source": [
        "num_batches = len(train_loader)\n",
        "for epoch in range(1, num_epochs + 1):\n",
        "    for batch_num, (inputs, y_true) in enumerate(train_loader, 1):\n",
        "        optimizer.zero_grad()\n",
        "        y_pred = model(inputs)\n",
        "        loss = loss_func(y_pred, y_true.squeeze())\n",
        "        loss_batch = loss.item()\n",
        "        loss.backward()\n",
        "        optimizer.step()\n",
        "        print(f'Epoch [{epoch}/{num_epochs}], batch: [{batch_num}/{num_batches}, loss: {loss_batch:.4f}]')"
      ]
    },
    {
      "cell_type": "markdown",
      "metadata": {
        "id": "O6ca-I9cbeYL"
      },
      "source": [
        "## Simple Evaluation:\n",
        "\n",
        "After training, it's essential to evaluate the model on a separate test dataset to assess its performance on **unseen** data. Here, we're calculating the accuracy of the model, which is a common metric for classification tasks."
      ]
    },
    {
      "cell_type": "code",
      "execution_count": 19,
      "metadata": {
        "id": "G1sOHXrjXZpZ"
      },
      "outputs": [],
      "source": [
        "predictions = []\n",
        "true_labels = []\n",
        "model.eval()  # without dropout and alike not really necessary\n",
        "with torch.no_grad():  # disable gradient computation, since it is only needed when backward() is called\n",
        "    for test_X, test_y in test_loader:\n",
        "        pred_y = model(test_X)\n",
        "        batch_preds = [x.item() for x in torch.argmax(pred_y, dim=-1)]\n",
        "        predictions.extend(batch_preds)\n",
        "        true_labels.extend([y.item() for y in test_y.squeeze()])"
      ]
    },
    {
      "cell_type": "code",
      "execution_count": 20,
      "metadata": {
        "colab": {
          "base_uri": "https://localhost:8080/"
        },
        "id": "e4s9S8c1b5NX",
        "outputId": "ed3e4cec-dc7a-4a78-fa4c-22150cbb4b83"
      },
      "outputs": [
        {
          "output_type": "execute_result",
          "data": {
            "text/plain": [
              "0.2"
            ]
          },
          "metadata": {},
          "execution_count": 20
        }
      ],
      "source": [
        "from sklearn.metrics import accuracy_score\n",
        "acc = accuracy_score(true_labels, predictions)\n",
        "acc"
      ]
    },
    {
      "cell_type": "code",
      "source": [],
      "metadata": {
        "id": "hjvYjYOR2qC_"
      },
      "execution_count": null,
      "outputs": []
    }
  ],
  "metadata": {
    "colab": {
      "provenance": [],
      "gpuType": "T4",
      "include_colab_link": true
    },
    "kernelspec": {
      "display_name": "Python 3",
      "name": "python3"
    },
    "language_info": {
      "name": "python"
    },
    "accelerator": "GPU"
  },
  "nbformat": 4,
  "nbformat_minor": 0
}